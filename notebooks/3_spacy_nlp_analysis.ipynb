{
 "cells": [
  {
   "cell_type": "code",
   "execution_count": null,
   "id": "3f633d40",
   "metadata": {},
   "outputs": [],
   "source": [
    "# This would be a Jupyter notebook - here's the content as Python code\n",
    "\n",
    "# %% [markdown]\n",
    "# # NLP Analysis with spaCy\n",
    "# \n",
    "# This notebook demonstrates NLP processing using spaCy on product reviews.\n",
    "\n",
    "# %%\n",
    "# Import libraries\n",
    "from src.nlp_processing import run_nlp_analysis\n",
    "import matplotlib.pyplot as plt\n",
    "plt.style.use('seaborn-v0_8')\n",
    "\n",
    "# %%\n",
    "# Run complete workflow\n",
    "results_df, nlp = run_nlp_analysis()\n",
    "\n",
    "# %%\n",
    "# Display sample entity visualization\n",
    "sample_review = results_df.iloc[0]['review_text']\n",
    "doc = nlp(sample_review)\n",
    "\n",
    "from spacy import displacy\n",
    "displacy.render(doc, style=\"ent\", jupyter=True)\n",
    "\n",
    "# %%\n",
    "# Compare rule-based sentiment with actual ratings\n",
    "results_df['rating_sentiment'] = results_df['rating'].apply(\n",
    "    lambda x: 'Positive' if x >= 4 else 'Negative' if x <= 2 else 'Neutral'\n",
    ")\n",
    "\n",
    "# Calculate accuracy\n",
    "accuracy = (results_df['sentiment'] == results_df['rating_sentiment']).mean()\n",
    "print(f\"Rule-based sentiment accuracy compared to ratings: {accuracy:.2%}\")\n",
    "\n",
    "# %%\n",
    "# Display comparison\n",
    "comparison = results_df[['review_id', 'sentiment', 'rating', 'rating_sentiment']]\n",
    "print(comparison)"
   ]
  }
 ],
 "metadata": {
  "language_info": {
   "name": "python"
  }
 },
 "nbformat": 4,
 "nbformat_minor": 5
}

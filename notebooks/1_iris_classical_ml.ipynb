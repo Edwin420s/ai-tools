{
 "cells": [
  {
   "cell_type": "code",
   "execution_count": null,
   "id": "3158e700",
   "metadata": {},
   "outputs": [],
   "source": [
    "# This would be a Jupyter notebook - here's the content as Python code\n",
    "\n",
    "# %% [markdown]\n",
    "# # Iris Classification with Scikit-learn\n",
    "# \n",
    "# This notebook demonstrates classical machine learning using Scikit-learn on the Iris dataset.\n",
    "\n",
    "# %%\n",
    "# Import libraries\n",
    "from src.classical_ml import run_iris_classification\n",
    "import matplotlib.pyplot as plt\n",
    "plt.style.use('seaborn-v0_8')\n",
    "\n",
    "# %%\n",
    "# Run complete workflow\n",
    "model, accuracy, precision, recall = run_iris_classification()\n",
    "\n",
    "# %%\n",
    "# Display feature importance\n",
    "feature_importance = model.feature_importances_\n",
    "feature_names = ['Sepal Length', 'Sepal Width', 'Petal Length', 'Petal Width']\n",
    "\n",
    "plt.figure(figsize=(10, 6))\n",
    "plt.bar(feature_names, feature_importance)\n",
    "plt.title('Feature Importance in Decision Tree')\n",
    "plt.ylabel('Importance')\n",
    "plt.show()\n",
    "\n",
    "# %%\n",
    "# Print summary\n",
    "print(\"Iris Classification Summary:\")\n",
    "print(\"=\" * 30)\n",
    "print(f\"Accuracy: {accuracy:.4f}\")\n",
    "print(f\"Precision: {precision:.4f}\")\n",
    "print(f\"Recall: {recall:.4f}\")"
   ]
  }
 ],
 "metadata": {
  "language_info": {
   "name": "python"
  }
 },
 "nbformat": 4,
 "nbformat_minor": 5
}

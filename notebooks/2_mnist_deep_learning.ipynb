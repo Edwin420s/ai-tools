{
 "cells": [
  {
   "cell_type": "code",
   "execution_count": null,
   "id": "6fca157b",
   "metadata": {},
   "outputs": [],
   "source": [
    "# This would be a Jupyter notebook - here's the content as Python code\n",
    "\n",
    "# %% [markdown]\n",
    "# # MNIST Classification with TensorFlow\n",
    "# \n",
    "# This notebook demonstrates deep learning using TensorFlow on the MNIST dataset.\n",
    "\n",
    "# %%\n",
    "# Import libraries\n",
    "from src.deep_learning import run_mnist_classification\n",
    "import matplotlib.pyplot as plt\n",
    "plt.style.use('seaborn-v0_8')\n",
    "\n",
    "# %%\n",
    "# Run complete workflow\n",
    "model, test_acc, history = run_mnist_classification()\n",
    "\n",
    "# %%\n",
    "# Display model architecture\n",
    "model.summary()\n",
    "\n",
    "# %%\n",
    "# Visualize filters in first convolutional layer\n",
    "first_layer_weights = model.layers[0].get_weights()[0]\n",
    "\n",
    "plt.figure(figsize=(12, 6))\n",
    "for i in range(16):\n",
    "    plt.subplot(4, 4, i+1)\n",
    "    plt.imshow(first_layer_weights[:, :, 0, i], cmap='viridis')\n",
    "    plt.axis('off')\n",
    "    plt.title(f'Filter {i+1}')\n",
    "plt.suptitle('First Layer Filters')\n",
    "plt.tight_layout()\n",
    "plt.show()\n",
    "\n",
    "# %%\n",
    "# Print summary\n",
    "print(\"MNIST Classification Summary:\")\n",
    "print(\"=\" * 30)\n",
    "print(f\"Test Accuracy: {test_acc:.4f}\")"
   ]
  }
 ],
 "metadata": {
  "language_info": {
   "name": "python"
  }
 },
 "nbformat": 4,
 "nbformat_minor": 5
}
